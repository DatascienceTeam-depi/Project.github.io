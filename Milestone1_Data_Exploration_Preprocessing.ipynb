{
 "cells": [
  {
   "cell_type": "markdown",
   "id": "7509f398",
   "metadata": {},
   "source": [
    "\n",
    "# 🌍 Milestone 1: Data Collection, Exploration, and Preprocessing\n",
    "\n",
    "This notebook performs:\n",
    "- Dataset loading\n",
    "- Data exploration (class distribution, image samples)\n",
    "- Image preprocessing\n",
    "- Dataset splitting (Train / Validation / Test)\n"
   ]
  },
  {
   "cell_type": "code",
   "execution_count": 3,
   "id": "1d159381",
   "metadata": {},
   "outputs": [],
   "source": [
    "\n",
    "# 📦 Import required libraries\n",
    "import os\n",
    "import matplotlib.pyplot as plt\n",
    "import seaborn as sns\n",
    "import torch\n",
    "from torchvision.datasets import ImageFolder\n",
    "from torchvision import transforms\n",
    "from torch.utils.data import random_split\n",
    "from collections import Counter\n",
    "import numpy as np\n"
   ]
  },
  {
   "cell_type": "code",
   "execution_count": 4,
   "id": "0091ef02",
   "metadata": {},
   "outputs": [
    {
     "name": "stdout",
     "output_type": "stream",
     "text": [
      "Total images: 2700\n",
      "Classes: ['2750']\n"
     ]
    }
   ],
   "source": [
    "\n",
    "# 📁 Load the EuroSAT dataset (update path if needed)\n",
    "data_dir = r'C:\\users\\a\\downloads\\EuroSAT'  # <- Edit this to match your local path\n",
    "\n",
    "transform = transforms.Compose([\n",
    "    transforms.Resize((64, 64)),\n",
    "    transforms.ToTensor(),\n",
    "    transforms.Normalize(mean=[0.5, 0.5, 0.5], std=[0.5, 0.5, 0.5])  # normalize to [-1, 1]\n",
    "])\n",
    "\n",
    "from torch.utils.data import Subset\n",
    "\n",
    "full_dataset = ImageFolder(root=data_dir, transform=transform)\n",
    "subset_indices = list(range(0, len(full_dataset), 10))  # load every 10th image only\n",
    "dataset = Subset(full_dataset, subset_indices)\n",
    "class_names = full_dataset.classes  # ✔️ access from the original full dataset\n",
    "print(f\"Total images: {len(dataset)}\")\n",
    "print(f\"Classes: {class_names}\")\n"
   ]
  },
  {
   "cell_type": "code",
   "execution_count": null,
   "id": "b889cc70",
   "metadata": {},
   "outputs": [],
   "source": [
    "\n",
    "# 📊 Class distribution analysis\n",
    "labels = [label for _, label in dataset]\n",
    "label_counts = Counter(labels)\n",
    "\n",
    "plt.figure(figsize=(10, 5))\n",
    "sns.barplot(x=[class_names[i] for i in label_counts.keys()], y=list(label_counts.values()))\n",
    "plt.title(\"Class Distribution\")\n",
    "plt.xticks(rotation=45)\n",
    "plt.tight_layout()\n",
    "plt.show()\n"
   ]
  },
  {
   "cell_type": "code",
   "execution_count": null,
   "id": "2763afcc",
   "metadata": {},
   "outputs": [],
   "source": [
    "\n",
    "# 🖼️ Display sample images from the dataset\n",
    "def show_samples(dataset, class_names, n=5):\n",
    "    plt.figure(figsize=(15, 5))\n",
    "    for i in range(n):\n",
    "        img, label = dataset[i * 200]  # spread out samples\n",
    "        img = img.permute(1, 2, 0).numpy()  # reshape to HWC\n",
    "        img = img * 0.5 + 0.5  # unnormalize\n",
    "        plt.subplot(1, n, i + 1)\n",
    "        plt.imshow(img)\n",
    "        plt.title(class_names[label])\n",
    "        plt.axis('off')\n",
    "    plt.show()\n",
    "\n",
    "show_samples(dataset, class_names)\n"
   ]
  },
  {
   "cell_type": "code",
   "execution_count": null,
   "id": "accb604e",
   "metadata": {},
   "outputs": [],
   "source": [
    "\n",
    "# ✂️ Split the dataset into training, validation, and testing sets\n",
    "train_size = int(0.7 * len(dataset))\n",
    "val_size = int(0.2 * len(dataset))\n",
    "test_size = len(dataset) - train_size - val_size\n",
    "\n",
    "train_dataset, val_dataset, test_dataset = random_split(dataset, [train_size, val_size, test_size])\n",
    "\n",
    "print(f\"Train size: {len(train_dataset)}\")\n",
    "print(f\"Validation size: {len(val_dataset)}\")\n",
    "print(f\"Test size: {len(test_dataset)}\")\n"
   ]
  },
  {
   "cell_type": "code",
   "execution_count": null,
   "id": "14f34111-0d47-4eda-a383-f9e7f916fbae",
   "metadata": {},
   "outputs": [],
   "source": []
  },
  {
   "cell_type": "code",
   "execution_count": null,
   "id": "d9023bd4-ee5f-4f8c-960e-bc2c1a741ac8",
   "metadata": {},
   "outputs": [],
   "source": []
  }
 ],
 "metadata": {
  "kernelspec": {
   "display_name": "Python 3 (ipykernel)",
   "language": "python",
   "name": "python3"
  },
  "language_info": {
   "codemirror_mode": {
    "name": "ipython",
    "version": 3
   },
   "file_extension": ".py",
   "mimetype": "text/x-python",
   "name": "python",
   "nbconvert_exporter": "python",
   "pygments_lexer": "ipython3",
   "version": "3.12.7"
  }
 },
 "nbformat": 4,
 "nbformat_minor": 5
}
